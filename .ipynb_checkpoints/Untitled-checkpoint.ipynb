{
 "cells": [
  {
   "cell_type": "code",
   "execution_count": null,
   "id": "bcce422b-4a5e-4056-95b8-9c84e39eb1dd",
   "metadata": {},
   "outputs": [],
   "source": [
    "import openai\n",
    "openai.api_key=\"\""
   ]
  },
  {
   "cell_type": "code",
   "execution_count": null,
   "id": "1aa70ebf-60bb-433c-a25a-59cc8ae045cd",
   "metadata": {},
   "outputs": [],
   "source": [
    "contexto_conversacion=\"\"\"\n",
    "Conversación entre un vendedor y un cliente por la prestación de un servicio.\n",
    "{\n",
    "  \"conversaciones\": [\n",
    "    {\n",
    "      \"mensaje\": \"Hola, ¿tienen este servicio disponible?\",\n",
    "      \"usuario\": \"Cliente\",\n",
    "      \"nombre\": \"María García\",\n",
    "      \"telefono\": \"555-123-4567\"\n",
    "    },\n",
    "    {\n",
    "      \"mensaje\": \"Sí, el servicio está disponible. ¿Para cuándo lo necesitas?\",\n",
    "      \"usuario\": \"Vendedor\",\n",
    "      \"nombre\": \"Carlos Rodríguez\",\n",
    "      \"telefono\": \"555-987-6543\"\n",
    "    },\n",
    "    {\n",
    "      \"mensaje\": \"Lo necesitaría para el próximo jueves. ¿Cuál es el costo?\",\n",
    "      \"usuario\": \"Cliente\",\n",
    "      \"nombre\": \"María García\",\n",
    "      \"telefono\": \"555-123-4567\"\n",
    "    },\n",
    "    {\n",
    "      \"mensaje\": \"El servicio tiene un costo de $80. ¿Te parece bien?\",\n",
    "      \"usuario\": \"Vendedor\",\n",
    "      \"nombre\": \"Carlos Rodríguez\",\n",
    "      \"telefono\": \"555-987-6543\"\n",
    "    },\n",
    "    {\n",
    "      \"mensaje\": \"Perfecto, procedamos con la reserva.\",\n",
    "      \"usuario\": \"Cliente\",\n",
    "      \"nombre\": \"María García\",\n",
    "      \"telefono\": \"555-123-4567\"\n",
    "    },\n",
    "    {\n",
    "      \"mensaje\": \"Hola, ¿puedo cancelar la reserva para el próximo jueves?\",\n",
    "      \"usuario\": \"Cliente\",\n",
    "      \"nombre\": \"María García\",\n",
    "      \"telefono\": \"555-123-4567\"\n",
    "    },\n",
    "    {\n",
    "      \"mensaje\": \"Sí, puedes cancelar la reserva. Por favor, avísanos con anticipación.\",\n",
    "      \"usuario\": \"Vendedor\",\n",
    "      \"nombre\": \"Carlos Rodríguez\",\n",
    "      \"telefono\": \"555-987-6543\"\n",
    "    },\n",
    "    {\n",
    "      \"mensaje\": \"Gracias por la información. ¿Cómo puedo proceder con la cancelación?\",\n",
    "      \"usuario\": \"Cliente\",\n",
    "      \"nombre\": \"María García\",\n",
    "      \"telefono\": \"555-123-4567\"\n",
    "    },\n",
    "    {\n",
    "      \"mensaje\": \"Puedes enviarnos un correo electrónico con los detalles y procesaremos la cancelación.\",\n",
    "      \"usuario\": \"Vendedor\",\n",
    "      \"nombre\": \"Carlos Rodríguez\",\n",
    "      \"telefono\": \"555-987-6543\"\n",
    "    }\n",
    "\"\"\""
   ]
  },
  {
   "cell_type": "code",
   "execution_count": null,
   "id": "55b17732-194a-49ef-b602-8a8c7f1845ad",
   "metadata": {},
   "outputs": [],
   "source": [
    "# creamos un resumen de lo que hablaron.\n",
    "mostrar_info=\"Dar informacion de quien es el vendedor y quien el cliente y un breve resumen de la conversación, evitando mostrar datos privados\"\n",
    "\n",
    "prompt= f\" {contexto_conversacion}\\n\\nP: {mostrar_info} \\nR \"\n",
    "\n",
    "response= openai.ChatCompletion.create(\n",
    "    model=gpt_3.5 turbo,\n",
    "    max_tokens=50,\n",
    "    messages=[\n",
    "        { \"role\":\"system\", \"content\": \"Eres un asistente util\"},\n",
    "        {\"role\": \"user\", \"content\": prompt},\n",
    "    ])\n",
    "message=response.choices[0]['message']\n",
    "print(\"{}:{}\", format(message['role'], message[])\n"
   ]
  }
 ],
 "metadata": {
  "kernelspec": {
   "display_name": "Python 3 (ipykernel)",
   "language": "python",
   "name": "python3"
  },
  "language_info": {
   "codemirror_mode": {
    "name": "ipython",
    "version": 3
   },
   "file_extension": ".py",
   "mimetype": "text/x-python",
   "name": "python",
   "nbconvert_exporter": "python",
   "pygments_lexer": "ipython3",
   "version": "3.12.2"
  }
 },
 "nbformat": 4,
 "nbformat_minor": 5
}
